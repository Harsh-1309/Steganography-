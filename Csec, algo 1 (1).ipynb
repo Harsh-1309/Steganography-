{
 "cells": [
  {
   "cell_type": "code",
   "execution_count": 1,
   "metadata": {},
   "outputs": [],
   "source": [
    "# Importing the OpenCV library \n",
    "import cv2 \n",
    "# Reading the image using imread() function \n",
    "image = cv2.imread('a1.png') #use(,0) for directly loading images into gray scale\n",
    "\n",
    "\n",
    "# will show the image in a window \n",
    "cv2.imshow('image', image) \n",
    "k = cv2.waitKey(0) & 0xFF\n",
    "# wait for ESC key to exit \n",
    "if k == 27:  \n",
    "    cv2.destroyAllWindows() "
   ]
  },
  {
   "cell_type": "code",
   "execution_count": 2,
   "metadata": {},
   "outputs": [
    {
     "name": "stdout",
     "output_type": "stream",
     "text": [
      "Height = 768, Width = 1504\n"
     ]
    }
   ],
   "source": [
    "# Extracting the height and width of an image \n",
    "h, w = image.shape[:2] \n",
    "# Displaying the height and width \n",
    "print(\"Height = {}, Width = {}\".format(h, w)) "
   ]
  },
  {
   "cell_type": "code",
   "execution_count": 3,
   "metadata": {},
   "outputs": [
    {
     "name": "stdout",
     "output_type": "stream",
     "text": [
      "R = 74, G = 70, B = 25\n",
      "BC = 148\n"
     ]
    }
   ],
   "source": [
    "# Extracting RGB values.  \n",
    "# Here we have randomly chosen a pixel \n",
    "# by passing in 100, 100 for height and width, can be custom in image[,]\n",
    "(B, G, R) = image[700, 800] \n",
    "  \n",
    "# Displaying the pixel values \n",
    "print(\"R = {}, G = {}, B = {}\".format(R, G, B)) \n",
    "  \n",
    "# We can also pass the channel to extract  \n",
    "# the value for a specific channel \n",
    "BC = image[100, 100, 0] \n",
    "print(\"BC = {}\".format(BC)) "
   ]
  },
  {
   "cell_type": "code",
   "execution_count": 4,
   "metadata": {},
   "outputs": [],
   "source": [
    "# We use cvtColor, to convert to grayscale \n",
    "#gray_image = cv2.cvtColor(image, cv2.COLOR_BGR2GRAY) \n",
    "  \n",
    "#cv2.imshow('Grayscale', gray_image) \n",
    "#cv2.waitKey(0)   \n",
    "  \n",
    "# window shown waits for any key pressing event \n",
    "#cv2.destroyAllWindows() "
   ]
  },
  {
   "cell_type": "code",
   "execution_count": 5,
   "metadata": {},
   "outputs": [],
   "source": [
    "#(g) = image[700, 800] \n",
    "  \n",
    "# Displaying the pixel values \n",
    "#print(\"g = {}\".format(g)) \n"
   ]
  },
  {
   "cell_type": "code",
   "execution_count": 28,
   "metadata": {},
   "outputs": [],
   "source": [
    "A=[] #creating lists for range input for private stego key\n",
    "B=[]\n",
    "def InputFn(): #function for input\n",
    "    A.clear()\n",
    "    B.clear()\n",
    "    i=0\n",
    "    while(i<5):\n",
    "        a=int(input(\"enter lower limit\" )) \n",
    "        A.append(a)\n",
    "        print()\n",
    "        b=int(input(\"enter upper limit\" ))\n",
    "        B.append(b)\n",
    "        print()\n",
    "        i+=1\n"
   ]
  },
  {
   "cell_type": "code",
   "execution_count": 29,
   "metadata": {},
   "outputs": [
    {
     "name": "stdout",
     "output_type": "stream",
     "text": [
      "enter lower limit2\n",
      "\n",
      "enter upper limit36\n",
      "\n",
      "enter lower limit38\n",
      "\n",
      "enter upper limit73\n",
      "\n",
      "enter lower limit74\n",
      "\n",
      "enter upper limit102\n",
      "\n",
      "enter lower limit105\n",
      "\n",
      "enter upper limit170\n",
      "\n",
      "enter lower limit178\n",
      "\n",
      "enter upper limit245\n",
      "\n"
     ]
    }
   ],
   "source": [
    "InputFn() #taking input"
   ]
  },
  {
   "cell_type": "code",
   "execution_count": 35,
   "metadata": {},
   "outputs": [],
   "source": [
    "#data validation\n",
    "def dataval():\n",
    "    for i in range(0,5):\n",
    "        if A[i+1]<=A[i] or B[i+1]<=B[i] or A[i]<0 or A[i]>255 or B[i]<0 or B[i]>255 or (B[i]-A[i])<32 :\n",
    "            print(\"invalid input, enter again:\")\n",
    "            InputFn()\n",
    "            dataval() \n",
    "            break\n",
    "        else:\n",
    "            print(\"the range choosen is :\") \n",
    "            for i in range(0,5):\n",
    "                print(\"(\",A[i],\",\",B[i],\")\")\n",
    "            break"
   ]
  },
  {
   "cell_type": "code",
   "execution_count": 36,
   "metadata": {
    "scrolled": true
   },
   "outputs": [
    {
     "name": "stdout",
     "output_type": "stream",
     "text": [
      "the range choosen is :\n",
      "( 2 , 36 )\n",
      "( 38 , 73 )\n",
      "( 74 , 102 )\n",
      "( 105 , 170 )\n",
      "( 178 , 245 )\n"
     ]
    }
   ],
   "source": [
    "dataval()"
   ]
  },
  {
   "cell_type": "code",
   "execution_count": null,
   "metadata": {
    "scrolled": true
   },
   "outputs": [],
   "source": []
  },
  {
   "cell_type": "code",
   "execution_count": 38,
   "metadata": {},
   "outputs": [
    {
     "name": "stdout",
     "output_type": "stream",
     "text": [
      "BC = 148\n"
     ]
    }
   ],
   "source": [
    "BC = image[100, 100, 0] \n",
    "print(\"BC = {}\".format(BC)) "
   ]
  },
  {
   "cell_type": "code",
   "execution_count": 39,
   "metadata": {},
   "outputs": [
    {
     "name": "stdout",
     "output_type": "stream",
     "text": [
      "Height = 768, Width = 1504\n"
     ]
    }
   ],
   "source": [
    "# Extracting the height and width of an image \n",
    "h, w = image.shape[:2] \n",
    "# Displaying the height and width \n",
    "print(\"Height = {}, Width = {}\".format(h, w)) "
   ]
  },
  {
   "cell_type": "code",
   "execution_count": 45,
   "metadata": {},
   "outputs": [
    {
     "name": "stdout",
     "output_type": "stream",
     "text": [
      "671783 158743 59041 253462 6\n"
     ]
    }
   ],
   "source": [
    "s1=0;s2=0;s3=0;s4=0;s5=0\n",
    "for i in range(0,h):\n",
    "    for j in range(0,w):\n",
    "        BC=image[i,j,0]\n",
    "        if A[0]<=BC<=B[0]:\n",
    "            s1=s1+1\n",
    "        if A[1]<=BC<=B[1]:\n",
    "            s2=s2+1\n",
    "        if A[2]<=BC<=B[2]:\n",
    "            s3=s3+1\n",
    "        if A[3]<=BC<=B[3]:\n",
    "            s4=s4+1\n",
    "        if A[4]<=BC<=B[4]:\n",
    "            s5=s5+1\n"
   ]
  },
  {
   "cell_type": "code",
   "execution_count": 55,
   "metadata": {},
   "outputs": [],
   "source": [
    "N=[]\n",
    "N.append(s1)\n",
    "N.append(s2)\n",
    "N.append(s3)\n",
    "N.append(s4)\n",
    "N.append(s5)"
   ]
  },
  {
   "cell_type": "code",
   "execution_count": 59,
   "metadata": {},
   "outputs": [
    {
     "name": "stdout",
     "output_type": "stream",
     "text": [
      "No of pixels in range 1 is 671783\n",
      "No of pixels in range 2 is 158743\n",
      "No of pixels in range 3 is 59041\n",
      "No of pixels in range 4 is 253462\n",
      "No of pixels in range 5 is 6\n"
     ]
    }
   ],
   "source": [
    "for i in range(1,6):\n",
    "    print(\"No of pixels in range\",i,'is',N[i-1])"
   ]
  },
  {
   "cell_type": "code",
   "execution_count": null,
   "metadata": {},
   "outputs": [],
   "source": []
  },
  {
   "cell_type": "code",
   "execution_count": null,
   "metadata": {},
   "outputs": [],
   "source": []
  },
  {
   "cell_type": "code",
   "execution_count": null,
   "metadata": {},
   "outputs": [],
   "source": []
  },
  {
   "cell_type": "code",
   "execution_count": null,
   "metadata": {},
   "outputs": [],
   "source": []
  }
 ],
 "metadata": {
  "kernelspec": {
   "display_name": "Python 3",
   "language": "python",
   "name": "python3"
  },
  "language_info": {
   "codemirror_mode": {
    "name": "ipython",
    "version": 3
   },
   "file_extension": ".py",
   "mimetype": "text/x-python",
   "name": "python",
   "nbconvert_exporter": "python",
   "pygments_lexer": "ipython3",
   "version": "3.8.5"
  }
 },
 "nbformat": 4,
 "nbformat_minor": 4
}
