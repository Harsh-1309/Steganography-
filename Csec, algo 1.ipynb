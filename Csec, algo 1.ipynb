{
 "cells": [
  {
   "cell_type": "code",
   "execution_count": 46,
   "metadata": {},
   "outputs": [],
   "source": [
    "# Importing the OpenCV library \n",
    "import cv2 \n",
    "# Reading the image using imread() function \n",
    "image = cv2.imread('a1.png') #use(,0) for directly loading images into gray scale\n",
    "\n",
    "\n",
    "# will show the image in a window \n",
    "cv2.imshow('image', image) \n",
    "k = cv2.waitKey(0) & 0xFF\n",
    "# wait for ESC key to exit \n",
    "if k == 27:  \n",
    "    cv2.destroyAllWindows() "
   ]
  },
  {
   "cell_type": "code",
   "execution_count": 47,
   "metadata": {},
   "outputs": [
    {
     "name": "stdout",
     "output_type": "stream",
     "text": [
      "Height = 768, Width = 1504\n"
     ]
    }
   ],
   "source": [
    "# Extracting the height and width of an image \n",
    "h, w = image.shape[:2] \n",
    "# Displaying the height and width \n",
    "print(\"Height = {}, Width = {}\".format(h, w)) "
   ]
  },
  {
   "cell_type": "code",
   "execution_count": 53,
   "metadata": {},
   "outputs": [
    {
     "name": "stdout",
     "output_type": "stream",
     "text": [
      "R = 74, G = 70, B = 25\n",
      "BC = 148\n"
     ]
    }
   ],
   "source": [
    "# Extracting RGB values.  \n",
    "# Here we have randomly chosen a pixel \n",
    "# by passing in 100, 100 for height and width, can be custom in image[,]\n",
    "(B, G, R) = image[700, 800] \n",
    "  \n",
    "# Displaying the pixel values \n",
    "print(\"R = {}, G = {}, B = {}\".format(R, G, B)) \n",
    "  \n",
    "# We can also pass the channel to extract  \n",
    "# the value for a specific channel \n",
    "BC = image[100, 100, 0] \n",
    "print(\"BC = {}\".format(BC)) "
   ]
  },
  {
   "cell_type": "code",
   "execution_count": 49,
   "metadata": {},
   "outputs": [],
   "source": [
    "# We use cvtColor, to convert to grayscale \n",
    "#gray_image = cv2.cvtColor(image, cv2.COLOR_BGR2GRAY) \n",
    "  \n",
    "#cv2.imshow('Grayscale', gray_image) \n",
    "#cv2.waitKey(0)   \n",
    "  \n",
    "# window shown waits for any key pressing event \n",
    "#cv2.destroyAllWindows() "
   ]
  },
  {
   "cell_type": "code",
   "execution_count": 50,
   "metadata": {},
   "outputs": [],
   "source": [
    "#(g) = image[700, 800] \n",
    "  \n",
    "# Displaying the pixel values \n",
    "#print(\"g = {}\".format(g)) \n"
   ]
  },
  {
   "cell_type": "code",
   "execution_count": 24,
   "metadata": {},
   "outputs": [],
   "source": [
    "A=[] #creating lists for range input for private stego key\n",
    "B=[]\n",
    "def InputFn(): #function for input\n",
    "    i=0\n",
    "    while(i<5):\n",
    "        a=int(input(\"enter lower limit\" )) \n",
    "        A.append(a)\n",
    "        print()\n",
    "        b=int(input(\"enter upper limit\" ))\n",
    "        B.append(b)\n",
    "        print()\n",
    "        i+=1\n"
   ]
  },
  {
   "cell_type": "code",
   "execution_count": 38,
   "metadata": {},
   "outputs": [
    {
     "name": "stdout",
     "output_type": "stream",
     "text": [
      "enter lower limit1\n",
      "\n",
      "enter upper limit2\n",
      "\n",
      "enter lower limit3\n",
      "\n",
      "enter upper limit4\n",
      "\n",
      "enter lower limit5\n",
      "\n",
      "enter upper limit5\n",
      "\n",
      "enter lower limit43\n",
      "\n",
      "enter upper limit2\n",
      "\n",
      "enter lower limit33\n",
      "\n",
      "enter upper limit44\n",
      "\n"
     ]
    }
   ],
   "source": [
    "InputFn() #taking input"
   ]
  },
  {
   "cell_type": "code",
   "execution_count": null,
   "metadata": {},
   "outputs": [],
   "source": [
    "#data validation\n",
    "def dataval():\n",
    "    for i in range(0,5):\n",
    "        if A[i+1]<=A[i] or B[i+1]<=B[i]:\n",
    "            break\n",
    "    \n",
    "        if A[i]<0 or A[i]>255:\n",
    "            break\n",
    "        if B[i]<0 or B[i]>255:\n",
    "            break\n",
    "        if A[i]-B[i]<32:\n",
    "            break\n",
    "        else :\n",
    "            continue \n",
    "    print(\"invalid input, enter again:\")\n",
    "    InputFn() \n",
    "    dataval()\n",
    "    "
   ]
  },
  {
   "cell_type": "code",
   "execution_count": null,
   "metadata": {},
   "outputs": [
    {
     "name": "stdout",
     "output_type": "stream",
     "text": [
      "invalid input, enter again:\n",
      "enter lower limit2\n",
      "\n",
      "enter upper limit3\n",
      "\n",
      "enter lower limit4\n",
      "\n",
      "enter upper limit21\n",
      "\n",
      "enter lower limit23\n",
      "\n",
      "enter upper limit4756\n",
      "\n",
      "enter lower limit57\n",
      "\n",
      "enter upper limit6557\n",
      "\n",
      "enter lower limit55\n",
      "\n",
      "enter upper limit54\n",
      "\n",
      "invalid input, enter again:\n",
      "enter lower limit2\n",
      "\n",
      "enter upper limit36\n",
      "\n",
      "enter lower limit3873\n",
      "\n",
      "enter upper limit2\n",
      "\n",
      "enter lower limit2\n",
      "\n",
      "enter upper limit2\n",
      "\n",
      "enter lower limit2\n",
      "\n",
      "enter upper limit2\n",
      "\n",
      "enter lower limit2\n",
      "\n",
      "enter upper limit2\n",
      "\n",
      "invalid input, enter again:\n",
      "enter lower limit2\n",
      "\n",
      "enter upper limit36\n",
      "\n",
      "enter lower limit38\n",
      "\n",
      "enter upper limit73\n",
      "\n",
      "enter lower limit74\n",
      "\n",
      "enter upper limit102\n",
      "\n",
      "enter lower limit105\n",
      "\n",
      "enter upper limit170\n",
      "\n",
      "enter lower limit178\n",
      "\n",
      "enter upper limit245\n",
      "\n",
      "invalid input, enter again:\n"
     ]
    }
   ],
   "source": [
    "dataval()"
   ]
  },
  {
   "cell_type": "code",
   "execution_count": 37,
   "metadata": {},
   "outputs": [
    {
     "name": "stdout",
     "output_type": "stream",
     "text": [
      "the range choosen is :\n",
      "( 2 , 36 )\n",
      "( 38 , 73 )\n",
      "( 74 , 102 )\n",
      "( 105 , 170 )\n",
      "( 178 , 245 )\n"
     ]
    }
   ],
   "source": [
    "\n",
    "print(\"the range choosen is :\") \n",
    "for i in range(0,5):\n",
    "    print(\"(\",A[i],\",\",B[i],\")\")"
   ]
  },
  {
   "cell_type": "code",
   "execution_count": null,
   "metadata": {},
   "outputs": [],
   "source": []
  }
 ],
 "metadata": {
  "kernelspec": {
   "display_name": "Python 3",
   "language": "python",
   "name": "python3"
  },
  "language_info": {
   "codemirror_mode": {
    "name": "ipython",
    "version": 3
   },
   "file_extension": ".py",
   "mimetype": "text/x-python",
   "name": "python",
   "nbconvert_exporter": "python",
   "pygments_lexer": "ipython3",
   "version": "3.8.5"
  }
 },
 "nbformat": 4,
 "nbformat_minor": 4
}
